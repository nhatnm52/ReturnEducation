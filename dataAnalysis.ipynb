{
 "cells": [
  {
   "cell_type": "code",
   "execution_count": null,
   "metadata": {},
   "outputs": [],
   "source": [
    "import matplotlib\n",
    "import matplotlib.pyplot as plt\n",
    "import panda as pd\n",
    "\n",
    "file = pd.read_excel('wage.xlsx')\n",
    "data = pd.DataFrame(file)\n",
    "data_train, data_test= train_test_split(data, test_size = 0.1, shuffle=False)"
   ]
  },
  {
   "cell_type": "code",
   "execution_count": null,
   "metadata": {},
   "outputs": [],
   "source": [
    "#The correlation between var in X and Y (wage)\n",
    "def corr(X,Y):\n",
    "  plt.figure()\n",
    "  print(Y+'  by  '+X)\n",
    "  for x in set(data[X]):\n",
    "    y = data[ data[X] == x][Y].mean()\n",
    "    plt.plot(x, y, 'ro')\n",
    "  plt.show()\n",
    "\n",
    "vars = ['married']\n",
    "for var in vars:\n",
    "  corr(var,'lwage')"
   ]
  },
  {
   "cell_type": "code",
   "execution_count": null,
   "metadata": {},
   "outputs": [],
   "source": [
    "#Histogram\n",
    "def histogram(X, Y, beta, trainError):\n",
    "    plt.figure()\n",
    "    plt.hist(data['lwage'])\n",
    "    plt.title('lwage')\n",
    "    plt.show()\n",
    "\n",
    "    print()\n",
    "    Yhat = X @ beta\n",
    "    plt.figure()\n",
    "    plt.hist(Yhat)\n",
    "    plt.title('lwage predict')\n",
    "    plt.show()\n",
    "\n",
    "    print()\n",
    "    plt.figure()\n",
    "    plt.hist(trainError)\n",
    "    plt.title('Train Error')\n",
    "    plt.show()"
   ]
  }
 ],
 "metadata": {
  "language_info": {
   "name": "python"
  },
  "orig_nbformat": 4
 },
 "nbformat": 4,
 "nbformat_minor": 2
}
